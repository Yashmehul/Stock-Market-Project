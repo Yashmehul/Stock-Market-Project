{
 "cells": [
  {
   "cell_type": "markdown",
   "metadata": {
    "id": "ltKcfTXGU6aZ"
   },
   "source": [
    "**Import the Libraries**"
   ]
  },
  {
   "cell_type": "code",
   "execution_count": 1,
   "metadata": {
    "id": "WvOrn7a7Uyos"
   },
   "outputs": [],
   "source": [
    " #Import the Libraries.\n",
    "import yfinance as yf\n",
    "import numpy as np\n",
    "import pandas as pd\n",
    "import matplotlib.pyplot as plt\n",
    "from sklearn.preprocessing import MinMaxScaler\n",
    "from keras.models import Sequential\n",
    "from keras.layers import Dense, LSTM, Dropout\n",
    "\n",
    "\n",
    "from contextlib import contextmanager\n",
    "\n",
    "\n"
   ]
  },
  {
   "cell_type": "markdown",
   "metadata": {
    "id": "6ioS6KwaSUIz"
   },
   "source": [
    "**Getting the stock data form yahoo finance**"
   ]
  },
  {
   "cell_type": "code",
   "execution_count": 2,
   "metadata": {
    "colab": {
     "base_uri": "https://localhost:8080/"
    },
    "id": "6VYB0_7RRKPp",
    "outputId": "2282976d-a218-4084-b2e3-775b8003b49a"
   },
   "outputs": [
    {
     "name": "stderr",
     "output_type": "stream",
     "text": [
      "[*********************100%%**********************]  1 of 1 completed\n"
     ]
    }
   ],
   "source": [
    "import yfinance as yf\n",
    "\n",
    "\n",
    "# Download the data\n",
    "df = yf.download('EXIDEIND.NS', start='2023-01-01', end='2024-01-31')\n",
    "\n",
    "# Save to CSV\n",
    "df.to_csv('EXIDEIND_data.csv')\n",
    "\n",
    "\n"
   ]
  },
  {
   "cell_type": "code",
   "execution_count": 3,
   "metadata": {
    "colab": {
     "base_uri": "https://localhost:8080/",
     "height": 363
    },
    "id": "aNSi00UTXPGb",
    "outputId": "374da38d-54e8-48e2-a6b3-c413e9f700ee"
   },
   "outputs": [
    {
     "data": {
      "text/html": [
       "<div>\n",
       "<style scoped>\n",
       "    .dataframe tbody tr th:only-of-type {\n",
       "        vertical-align: middle;\n",
       "    }\n",
       "\n",
       "    .dataframe tbody tr th {\n",
       "        vertical-align: top;\n",
       "    }\n",
       "\n",
       "    .dataframe thead th {\n",
       "        text-align: right;\n",
       "    }\n",
       "</style>\n",
       "<table border=\"1\" class=\"dataframe\">\n",
       "  <thead>\n",
       "    <tr style=\"text-align: right;\">\n",
       "      <th></th>\n",
       "      <th>Date</th>\n",
       "      <th>Open</th>\n",
       "      <th>High</th>\n",
       "      <th>Low</th>\n",
       "      <th>Close</th>\n",
       "      <th>Adj Close</th>\n",
       "      <th>Volume</th>\n",
       "    </tr>\n",
       "  </thead>\n",
       "  <tbody>\n",
       "    <tr>\n",
       "      <th>0</th>\n",
       "      <td>2023-01-02</td>\n",
       "      <td>181.000000</td>\n",
       "      <td>181.750000</td>\n",
       "      <td>179.649994</td>\n",
       "      <td>181.399994</td>\n",
       "      <td>179.280624</td>\n",
       "      <td>1333139</td>\n",
       "    </tr>\n",
       "    <tr>\n",
       "      <th>1</th>\n",
       "      <td>2023-01-03</td>\n",
       "      <td>182.000000</td>\n",
       "      <td>183.000000</td>\n",
       "      <td>179.500000</td>\n",
       "      <td>180.899994</td>\n",
       "      <td>178.786469</td>\n",
       "      <td>1729484</td>\n",
       "    </tr>\n",
       "    <tr>\n",
       "      <th>2</th>\n",
       "      <td>2023-01-04</td>\n",
       "      <td>180.649994</td>\n",
       "      <td>181.050003</td>\n",
       "      <td>176.899994</td>\n",
       "      <td>179.199997</td>\n",
       "      <td>177.106323</td>\n",
       "      <td>1956913</td>\n",
       "    </tr>\n",
       "    <tr>\n",
       "      <th>3</th>\n",
       "      <td>2023-01-05</td>\n",
       "      <td>179.250000</td>\n",
       "      <td>181.550003</td>\n",
       "      <td>178.550003</td>\n",
       "      <td>180.600006</td>\n",
       "      <td>178.489975</td>\n",
       "      <td>1362043</td>\n",
       "    </tr>\n",
       "    <tr>\n",
       "      <th>4</th>\n",
       "      <td>2023-01-06</td>\n",
       "      <td>180.500000</td>\n",
       "      <td>181.600006</td>\n",
       "      <td>177.750000</td>\n",
       "      <td>178.399994</td>\n",
       "      <td>176.315674</td>\n",
       "      <td>1453876</td>\n",
       "    </tr>\n",
       "    <tr>\n",
       "      <th>5</th>\n",
       "      <td>2023-01-09</td>\n",
       "      <td>179.000000</td>\n",
       "      <td>181.350006</td>\n",
       "      <td>178.800003</td>\n",
       "      <td>180.800003</td>\n",
       "      <td>178.687637</td>\n",
       "      <td>1205955</td>\n",
       "    </tr>\n",
       "    <tr>\n",
       "      <th>6</th>\n",
       "      <td>2023-01-10</td>\n",
       "      <td>182.199997</td>\n",
       "      <td>183.100006</td>\n",
       "      <td>179.100006</td>\n",
       "      <td>181.000000</td>\n",
       "      <td>178.885300</td>\n",
       "      <td>2079610</td>\n",
       "    </tr>\n",
       "    <tr>\n",
       "      <th>7</th>\n",
       "      <td>2023-01-11</td>\n",
       "      <td>181.100006</td>\n",
       "      <td>184.300003</td>\n",
       "      <td>181.100006</td>\n",
       "      <td>183.000000</td>\n",
       "      <td>180.861923</td>\n",
       "      <td>1978023</td>\n",
       "    </tr>\n",
       "    <tr>\n",
       "      <th>8</th>\n",
       "      <td>2023-01-12</td>\n",
       "      <td>184.100006</td>\n",
       "      <td>185.500000</td>\n",
       "      <td>181.699997</td>\n",
       "      <td>182.649994</td>\n",
       "      <td>180.516006</td>\n",
       "      <td>2496914</td>\n",
       "    </tr>\n",
       "    <tr>\n",
       "      <th>9</th>\n",
       "      <td>2023-01-13</td>\n",
       "      <td>182.800003</td>\n",
       "      <td>184.050003</td>\n",
       "      <td>181.550003</td>\n",
       "      <td>183.050003</td>\n",
       "      <td>180.911346</td>\n",
       "      <td>1124171</td>\n",
       "    </tr>\n",
       "  </tbody>\n",
       "</table>\n",
       "</div>"
      ],
      "text/plain": [
       "         Date        Open        High         Low       Close   Adj Close  \\\n",
       "0  2023-01-02  181.000000  181.750000  179.649994  181.399994  179.280624   \n",
       "1  2023-01-03  182.000000  183.000000  179.500000  180.899994  178.786469   \n",
       "2  2023-01-04  180.649994  181.050003  176.899994  179.199997  177.106323   \n",
       "3  2023-01-05  179.250000  181.550003  178.550003  180.600006  178.489975   \n",
       "4  2023-01-06  180.500000  181.600006  177.750000  178.399994  176.315674   \n",
       "5  2023-01-09  179.000000  181.350006  178.800003  180.800003  178.687637   \n",
       "6  2023-01-10  182.199997  183.100006  179.100006  181.000000  178.885300   \n",
       "7  2023-01-11  181.100006  184.300003  181.100006  183.000000  180.861923   \n",
       "8  2023-01-12  184.100006  185.500000  181.699997  182.649994  180.516006   \n",
       "9  2023-01-13  182.800003  184.050003  181.550003  183.050003  180.911346   \n",
       "\n",
       "    Volume  \n",
       "0  1333139  \n",
       "1  1729484  \n",
       "2  1956913  \n",
       "3  1362043  \n",
       "4  1453876  \n",
       "5  1205955  \n",
       "6  2079610  \n",
       "7  1978023  \n",
       "8  2496914  \n",
       "9  1124171  "
      ]
     },
     "execution_count": 3,
     "metadata": {},
     "output_type": "execute_result"
    }
   ],
   "source": [
    "#reading the file from drive\n",
    "df=pd.read_csv('EXIDEIND_data.csv')\n",
    "\n",
    "# Print the first few rows of the DataFrame\n",
    "df.head(10)"
   ]
  },
  {
   "cell_type": "code",
   "execution_count": 4,
   "metadata": {
    "colab": {
     "base_uri": "https://localhost:8080/"
    },
    "id": "ZX3Vt-xOXmoT",
    "outputId": "693c466a-40b3-49e8-83b1-4c9e6989e0f3"
   },
   "outputs": [
    {
     "name": "stdout",
     "output_type": "stream",
     "text": [
      "<class 'pandas.core.frame.DataFrame'>\n",
      "RangeIndex: 265 entries, 0 to 264\n",
      "Data columns (total 7 columns):\n",
      " #   Column     Non-Null Count  Dtype  \n",
      "---  ------     --------------  -----  \n",
      " 0   Date       265 non-null    object \n",
      " 1   Open       265 non-null    float64\n",
      " 2   High       265 non-null    float64\n",
      " 3   Low        265 non-null    float64\n",
      " 4   Close      265 non-null    float64\n",
      " 5   Adj Close  265 non-null    float64\n",
      " 6   Volume     265 non-null    int64  \n",
      "dtypes: float64(5), int64(1), object(1)\n",
      "memory usage: 14.6+ KB\n"
     ]
    }
   ],
   "source": [
    "df.info()"
   ]
  },
  {
   "cell_type": "code",
   "execution_count": 5,
   "metadata": {
    "colab": {
     "base_uri": "https://localhost:8080/",
     "height": 206
    },
    "id": "7EcfBkxGYA34",
    "outputId": "496e3064-f6a7-46d3-c33b-eb04462383a6"
   },
   "outputs": [
    {
     "data": {
      "text/html": [
       "<div>\n",
       "<style scoped>\n",
       "    .dataframe tbody tr th:only-of-type {\n",
       "        vertical-align: middle;\n",
       "    }\n",
       "\n",
       "    .dataframe tbody tr th {\n",
       "        vertical-align: top;\n",
       "    }\n",
       "\n",
       "    .dataframe thead th {\n",
       "        text-align: right;\n",
       "    }\n",
       "</style>\n",
       "<table border=\"1\" class=\"dataframe\">\n",
       "  <thead>\n",
       "    <tr style=\"text-align: right;\">\n",
       "      <th></th>\n",
       "      <th>Date</th>\n",
       "      <th>Open</th>\n",
       "      <th>High</th>\n",
       "      <th>Low</th>\n",
       "      <th>Close</th>\n",
       "      <th>Adj Close</th>\n",
       "      <th>Volume</th>\n",
       "    </tr>\n",
       "  </thead>\n",
       "  <tbody>\n",
       "    <tr>\n",
       "      <th>260</th>\n",
       "      <td>2024-01-23</td>\n",
       "      <td>325.899994</td>\n",
       "      <td>327.600006</td>\n",
       "      <td>313.350006</td>\n",
       "      <td>314.700012</td>\n",
       "      <td>313.535553</td>\n",
       "      <td>3270317</td>\n",
       "    </tr>\n",
       "    <tr>\n",
       "      <th>261</th>\n",
       "      <td>2024-01-24</td>\n",
       "      <td>315.000000</td>\n",
       "      <td>319.250000</td>\n",
       "      <td>311.399994</td>\n",
       "      <td>315.299988</td>\n",
       "      <td>314.133301</td>\n",
       "      <td>4837038</td>\n",
       "    </tr>\n",
       "    <tr>\n",
       "      <th>262</th>\n",
       "      <td>2024-01-25</td>\n",
       "      <td>315.500000</td>\n",
       "      <td>317.549988</td>\n",
       "      <td>307.450012</td>\n",
       "      <td>310.399994</td>\n",
       "      <td>309.251434</td>\n",
       "      <td>3275873</td>\n",
       "    </tr>\n",
       "    <tr>\n",
       "      <th>263</th>\n",
       "      <td>2024-01-29</td>\n",
       "      <td>314.700012</td>\n",
       "      <td>317.250000</td>\n",
       "      <td>311.299988</td>\n",
       "      <td>315.299988</td>\n",
       "      <td>314.133301</td>\n",
       "      <td>1788476</td>\n",
       "    </tr>\n",
       "    <tr>\n",
       "      <th>264</th>\n",
       "      <td>2024-01-30</td>\n",
       "      <td>318.899994</td>\n",
       "      <td>321.850006</td>\n",
       "      <td>315.450012</td>\n",
       "      <td>318.000000</td>\n",
       "      <td>316.823303</td>\n",
       "      <td>2813599</td>\n",
       "    </tr>\n",
       "  </tbody>\n",
       "</table>\n",
       "</div>"
      ],
      "text/plain": [
       "           Date        Open        High         Low       Close   Adj Close  \\\n",
       "260  2024-01-23  325.899994  327.600006  313.350006  314.700012  313.535553   \n",
       "261  2024-01-24  315.000000  319.250000  311.399994  315.299988  314.133301   \n",
       "262  2024-01-25  315.500000  317.549988  307.450012  310.399994  309.251434   \n",
       "263  2024-01-29  314.700012  317.250000  311.299988  315.299988  314.133301   \n",
       "264  2024-01-30  318.899994  321.850006  315.450012  318.000000  316.823303   \n",
       "\n",
       "      Volume  \n",
       "260  3270317  \n",
       "261  4837038  \n",
       "262  3275873  \n",
       "263  1788476  \n",
       "264  2813599  "
      ]
     },
     "execution_count": 5,
     "metadata": {},
     "output_type": "execute_result"
    }
   ],
   "source": [
    "df.tail()"
   ]
  },
  {
   "cell_type": "markdown",
   "metadata": {
    "id": "eFvCnjTRcGRT"
   },
   "source": [
    "**Stock Closing Price**"
   ]
  },
  {
   "cell_type": "markdown",
   "metadata": {
    "id": "M--Tc5C8cGN5"
   },
   "source": []
  },
  {
   "cell_type": "code",
   "execution_count": 6,
   "metadata": {
    "colab": {
     "base_uri": "https://localhost:8080/",
     "height": 346
    },
    "id": "_qcjaf3L72I2",
    "outputId": "b33b3fec-3a80-4463-a0c8-8623b4e6c35b"
   },
   "outputs": [
    {
     "data": {
      "image/png": "[encoded data removed]",
      "text/plain": [
       "<Figure size 1400x600 with 1 Axes>"
      ]
     },
     "metadata": {},
     "output_type": "display_data"
    }
   ],
   "source": [
    "# Plot the closing prices\n",
    "plt.figure(figsize=(14, 6))\n",
    "plt.plot(df.index, df['Close'], label='Close Price')\n",
    "plt.xlabel('Date')\n",
    "plt.ylabel('Close Price')\n",
    "plt.title('EXIDEIND Stock Close Price')\n",
    "plt.legend()\n",
    "plt.show()"
   ]
  },
  {
   "cell_type": "markdown",
   "metadata": {
    "id": "RehsJzeHa1Ry"
   },
   "source": [
    "**Technical Indicators- RSI,MACD,Bollinger Bands**"
   ]
  },
  {
   "cell_type": "code",
   "execution_count": 10,
   "metadata": {
    "colab": {
     "base_uri": "https://localhost:8080/",
     "height": 556
    },
    "id": "QNKr55THYXDB",
    "outputId": "b200724e-607d-4f3d-ebaa-bda602393e69"
   },
   "outputs": [
    {
     "ename": "SyntaxError",
     "evalue": "invalid decimal literal (2729583763.py, line 8)",
     "output_type": "error",
     "traceback": [
      "\u001b[1;36m  Cell \u001b[1;32mIn[10], line 8\u001b[1;36m\u001b[0m\n\u001b[1;33m    gain = (delta.where(delta > 0, 0))window=14.rolling().mean()\u001b[0m\n\u001b[1;37m                                               ^\u001b[0m\n\u001b[1;31mSyntaxError\u001b[0m\u001b[1;31m:\u001b[0m invalid decimal literal\n"
     ]
    }
   ],
   "source": [
    "# Adding technical indicators\n",
    "def add_technical_indicators(data):\n",
    "    # Ensure data is sorted by date\n",
    "    data = data.sort_index()\n",
    "\n",
    "    # RSI (Relative Strength Index)\n",
    "    delta = data['Close'].diff()\n",
    "    gain = (delta.where(delta > 0, 0))window=14.rolling().mean()\n",
    "    loss = (-delta.where(delta < 0, 0)).rolling(window=14).mean()\n",
    "    RS = gain / loss\n",
    "    data['RSI'] = 100 - (100 / (1 + RS))\n",
    "\n",
    "    # MACD (Moving Average Convergence Divergence)\n",
    "    data['EMA12'] = data['Close'].ewm(span=12, adjust=False).mean()\n",
    "    data['EMA26'] = data['Close'].ewm(span=26, adjust=False).mean()\n",
    "    data['MACD'] = data['EMA12'] - data['EMA26']\n",
    "    data['Signal_Line'] = data['MACD'].ewm(span=9, adjust=False).mean()\n",
    "\n",
    "    # Bollinger Bands\n",
    "    data['20_MA'] = data['Close'].rolling(window=20).mean()\n",
    "    data['20_SD'] = data['Close'].rolling(window=20).std()\n",
    "    data['Upper_Band'] = data['20_MA'] + (2 * data['20_SD'])\n",
    "    data['Lower_Band'] = data['20_MA'] - (2 * data['20_SD'])\n",
    "\n",
    "    # Additional Indicators\n",
    "    # RSI interpretation\n",
    "    data['RSI_Text'] = ''\n",
    "    data.loc[data['RSI'] < 30, 'RSI_Text'] = 'Oversold.'\n",
    "    data.loc[data['RSI'] > 70, 'RSI_Text'] = 'Overbought'\n",
    "\n",
    "    # Bollinger Bands indication\n",
    "    data['BB_Text'] = ''\n",
    "    data.loc[data['Close'] > data['Upper_Band'], 'BB_Text'] = 'Overbought.'\n",
    "    data.loc[data['Close'] < data['Lower_Band'], 'BB_Text'] = 'Oversold.'\n",
    "\n",
    "    # Volume\n",
    "    data['Volume_MA'] = data['Volume'].rolling(window=20).mean()\n",
    "\n",
    "    return data\n",
    "\n",
    "\n",
    "df = add_technical_indicators(df)\n",
    "df.tail(20)\n",
    "\n"
   ]
  },
  {
   "cell_type": "markdown",
   "metadata": {
    "id": "fRezv5TLbNt8"
   },
   "source": [
    "\n",
    "**Relative Strength Index (RSI) Indicator **"
   ]
  },
  {
   "cell_type": "code",
   "execution_count": null,
   "metadata": {
    "colab": {
     "base_uri": "https://localhost:8080/",
     "height": 782
    },
    "id": "eI1fIiJx0Yr3",
    "outputId": "9f390d47-3fc2-4dde-e944-482d63a2a184"
   },
   "outputs": [],
   "source": [
    "#RSI-indicator\n",
    "import pandas as pd\n",
    "# Convert the 'Date' column to datetime format\n",
    "df['Date'] = pd.to_datetime(df['Date'])\n",
    "\n",
    "\n",
    "def EMA(Close_arr, n):\n",
    "    a = 2 / (n + 1)\n",
    "    EMA_n = np.zeros(len(Close_arr))\n",
    "    EMA_n[:n] = np.nan\n",
    "\n",
    "    # Initialize the first EMA value\n",
    "    EMA_n[n] = np.mean(Close_arr[:n])\n",
    "\n",
    "    # Calculate EMA for the rest of the values\n",
    "    for i in range(n + 1, len(Close_arr)):\n",
    "        EMA_n[i] = (Close_arr[i] - EMA_n[i - 1]) * a + EMA_n[i - 1]\n",
    "\n",
    "    return EMA_n\n",
    "\n",
    "def gains(Close_arr):\n",
    "    gain_arr = np.diff(Close_arr)\n",
    "    gain_arr[gain_arr < 0] = 0\n",
    "    return gain_arr\n",
    "\n",
    "def losses(Close_arr):\n",
    "    loss_arr = np.diff(Close_arr)\n",
    "    loss_arr[loss_arr > 0] = 0\n",
    "    return np.abs(loss_arr)\n",
    "\n",
    "def RSI(Close_arr, n=14):\n",
    "    gain_arr = gains(Close_arr)\n",
    "    loss_arr = losses(Close_arr)\n",
    "\n",
    "    EMA_u = EMA(gain_arr, n)\n",
    "    EMA_d = EMA(loss_arr, n)\n",
    "\n",
    "    EMA_diff = EMA_u / EMA_d\n",
    "\n",
    "    RSI_n = 100 - (100 / (1 + EMA_diff))\n",
    "    RSI_n = np.concatenate((np.full(n, np.nan), RSI_n))  # Align lengths by padding initial values with NaN\n",
    "    return RSI_n\n",
    "\n",
    "# Use the closing prices to calculate RSI\n",
    "Close = df['Close'].values\n",
    "RSI14 = RSI(Close, n=14)\n",
    "\n",
    "# Ensure the lengths match by trimming the RSI array if necessary\n",
    "RSI14 = RSI14[:len(df)]\n",
    "\n",
    "# Adding the RSI to the dataframe\n",
    "df['RSI14'] = RSI14\n",
    "\n",
    "print(df[['Date', 'Close', 'RSI14']].head(20))\n",
    "\n",
    "# Save the dataframe with RSI to a new CSV file\n",
    "df.to_csv('/content/EXIDEIND_data.csv', index=False)\n",
    "\n",
    "# Plot the RSI\n",
    "plt.figure(figsize=(14, 7))\n",
    "plt.plot(df['Date'], df['RSI14'], label='RSI 14')\n",
    "plt.axhline(30, color='red', linestyle='--', label='Oversold (30)')\n",
    "plt.axhline(70, color='green', linestyle='--', label='Overbought (70)')\n",
    "plt.title('RSI Indicator')\n",
    "plt.xlabel('Date')\n",
    "plt.ylabel('RSI')\n",
    "plt.legend()\n",
    "plt.xticks(rotation=45)\n",
    "plt.show()"
   ]
  },
  {
   "cell_type": "code",
   "execution_count": null,
   "metadata": {
    "colab": {
     "base_uri": "https://localhost:8080/"
    },
    "id": "xLKqgBHmTz9E",
    "outputId": "c66a0160-01f2-489e-c433-ec4de7c9d009"
   },
   "outputs": [],
   "source": [
    "# Use the 'Close' prices for prediction\n",
    "data = df['Close'].values.reshape(-1, 1)\n",
    "\n",
    "# Feature scaling\n",
    "scaler = MinMaxScaler(feature_range=(0, 1))\n",
    "scaled_data = scaler.fit_transform(data)\n",
    "\n",
    "# Split the data into training and testing sets\n",
    "train_size = int(len(scaled_data) * 0.7)\n",
    "train_data = scaled_data[:train_size]\n",
    "test_data = scaled_data[train_size:]\n",
    "\n",
    "# Create a function to prepare the data for LSTM model\n",
    "def create_dataset(data, time_step=1):\n",
    "    X, Y = [], []\n",
    "    for i in range(len(data) - time_step - 1):\n",
    "        X.append(data[i:(i + time_step), 0])\n",
    "        Y.append(data[i + time_step, 0])\n",
    "    return np.array(X), np.array(Y)\n",
    "\n",
    "time_step = 60  # Based on common practices for stock prediction\n",
    "X_train, Y_train = create_dataset(train_data, time_step)\n",
    "X_test, Y_test = create_dataset(test_data, time_step)\n",
    "\n",
    "# Check the shapes of the datasets\n",
    "print(f\"X_train shape: {X_train.shape}\")\n",
    "print(f\"Y_train shape: {Y_train.shape}\")\n",
    "print(f\"X_test shape: {X_test.shape}\")\n",
    "print(f\"Y_test shape: {Y_test.shape}\")\n",
    "\n",
    "# Ensure the datasets are not empty and have the expected dimensions\n",
    "if X_train.shape[0] == 0 or X_test.shape[0] == 0:\n",
    "    raise ValueError(\"Not enough data to create the required training and testing datasets. Please check the time_step value or the size of your dataset.\")\n",
    "\n",
    "# Reshape input to be [samples, time steps, features] which is required for LSTM\n",
    "X_train = X_train.reshape(X_train.shape[0], X_train.shape[1], 1)\n",
    "X_test = X_test.reshape(X_test.shape[0], X_test.shape[1], 1)\n"
   ]
  },
  {
   "cell_type": "markdown",
   "metadata": {
    "id": "7W7I1aDgcfvb"
   },
   "source": [
    "\n",
    "\n",
    "**LSTM-Long Short Term Memory Network**\n"
   ]
  },
  {
   "cell_type": "code",
   "execution_count": null,
   "metadata": {
    "colab": {
     "base_uri": "https://localhost:8080/"
    },
    "id": "eDpg0Cr9VzJH",
    "outputId": "e4e0f36f-6be0-4b78-e321-b033a7b0e0f5"
   },
   "outputs": [],
   "source": [
    "# Define the time_step variable\n",
    "time_step = 60  # You can change this based on your requirement\n",
    "\n",
    "# Create and fit the advanced LSTM network\n",
    "model = Sequential()\n",
    "\n",
    "# Add multiple LSTM layers with dropout\n",
    "model.add(LSTM(units=50, return_sequences=True, input_shape=(time_step, 1)))\n",
    "model.add(Dropout(0.2))\n",
    "model.add(LSTM(units=50, return_sequences=True))\n",
    "model.add(Dropout(0.2))\n",
    "model.add(LSTM(units=50, return_sequences=True))\n",
    "model.add(Dropout(0.2))\n",
    "model.add(LSTM(units=50))\n",
    "model.add(Dropout(0.2))\n",
    "model.add(Dense(units=25))\n",
    "model.add(Dense(units=1))\n",
    "\n",
    "# Compile the model\n",
    "model.compile(optimizer='adam', loss='mean_squared_error')\n",
    "\n",
    "# Reshape the training and test data\n",
    "X_train = np.reshape(X_train, (X_train.shape[0], time_step, 1))\n",
    "X_test = np.reshape(X_test, (X_test.shape[0], time_step, 1))\n",
    "\n",
    "# Train the model\n",
    "model.fit(X_train, Y_train, batch_size=64, epochs=100)\n",
    "\n",
    "# Predict the stock prices\n",
    "train_predict = model.predict(X_train)\n",
    "test_predict = model.predict(X_test)\n",
    "\n",
    "# Transform back to original form\n",
    "train_predict = scaler.inverse_transform(train_predict)\n",
    "test_predict = scaler.inverse_transform(test_predict)\n",
    "Y_train = scaler.inverse_transform([Y_train])\n",
    "Y_test = scaler.inverse_transform([Y_test])\n"
   ]
  },
  {
   "cell_type": "markdown",
   "metadata": {
    "id": "NKk9zDLudZvr"
   },
   "source": [
    "**Predicted Result**"
   ]
  },
  {
   "cell_type": "code",
   "execution_count": null,
   "metadata": {
    "colab": {
     "base_uri": "https://localhost:8080/",
     "height": 346
    },
    "id": "uy7Qwb06WnrJ",
    "outputId": "b1813d1f-ba48-4093-c76e-ac493aff3a76"
   },
   "outputs": [],
   "source": [
    "plt.figure(figsize=(14, 6))\n",
    "plt.plot(df.index, data, label='Original Data')\n",
    "train_plot = np.empty_like(data)\n",
    "train_plot[:, :] = np.nan\n",
    "train_plot[time_step:len(train_predict) + time_step, :] = train_predict\n",
    "\n",
    "test_plot = np.empty_like(data)\n",
    "test_plot[:, :] = np.nan\n",
    "test_plot[len(train_predict) + (time_step * 2) + 1:len(data) - 1, :] = test_predict\n",
    "\n",
    "plt.plot(df.index, train_plot, label='Training Prediction')\n",
    "plt.plot(df.index, test_plot, label='Testing Prediction')\n",
    "plt.xlabel('Date')\n",
    "plt.ylabel('Close Price')\n",
    "plt.title('EXIDEIND Stock Price Prediction')\n",
    "plt.legend()\n",
    "plt.show()"
   ]
  },
  {
   "cell_type": "code",
   "execution_count": null,
   "metadata": {
    "colab": {
     "base_uri": "https://localhost:8080/",
     "height": 346
    },
    "id": "oQEN24LkWLgi",
    "outputId": "962b8446-db57-47e0-a8e0-0b0c63f1a827"
   },
   "outputs": [],
   "source": [
    "\n",
    "\n",
    "# Plot the results\n",
    "plt.figure(figsize=(14, 6))\n",
    "\n",
    "# Plot the actual stock price\n",
    "plt.plot(df.index, data, label='Actual Stock Price', color='black')\n",
    "\n",
    "# Prepare training prediction plot\n",
    "train_plot = np.empty_like(data)\n",
    "train_plot[:, :] = np.nan\n",
    "train_plot[time_step:len(train_predict) + time_step, :] = train_predict\n",
    "\n",
    "# Prepare testing prediction plot\n",
    "test_plot = np.empty_like(data)\n",
    "test_plot[:, :] = np.nan\n",
    "test_plot[len(train_predict) + (time_step * 2) + 1:len(data) - 1, :] = test_predict\n",
    "\n",
    "# Plot training predictions\n",
    "plt.plot(df.index, train_plot, label='Training Prediction', color='blue')\n",
    "\n",
    "# Plot testing predictions with a prominent green color\n",
    "plt.plot(df.index, test_plot, label='Testing Prediction', color='green', linewidth=2.5)\n",
    "\n",
    "# Set labels and title\n",
    "plt.xlabel('Date')\n",
    "plt.ylabel('Close Price')\n",
    "plt.title('EXIDEIND Stock Price Prediction')\n",
    "\n",
    "# Add legend\n",
    "plt.legend()\n",
    "\n",
    "# Show the plot\n",
    "plt.show()\n"
   ]
  },
  {
   "cell_type": "code",
   "execution_count": null,
   "metadata": {},
   "outputs": [],
   "source": []
  }
 ],
 "metadata": {
  "colab": {
   "provenance": []
  },
  "kernelspec": {
   "display_name": "Python 3 (ipykernel)",
   "language": "python",
   "name": "python3"
  },
  "language_info": {
   "codemirror_mode": {
    "name": "ipython",
    "version": 3
   },
   "file_extension": ".py",
   "mimetype": "text/x-python",
   "name": "python",
   "nbconvert_exporter": "python",
   "pygments_lexer": "ipython3",
   "version": "3.10.13"
  }
 },
 "nbformat": 4,
 "nbformat_minor": 1
}
